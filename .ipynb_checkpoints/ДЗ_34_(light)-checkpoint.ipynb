{
 "cells": [
  {
   "cell_type": "code",
   "execution_count": 1,
   "metadata": {
    "id": "FxEebdSm2i7g"
   },
   "outputs": [],
   "source": [
    "import threading # Импортируем модуль threading для запуска в отдельном потоке\n",
    "import tensorflow\n",
    "import keras\n",
    "from flask import Flask # Импортируем модуль Flask \n",
    "from tensorflow.keras.models import Sequential\n",
    "from tensorflow.keras.layers import Dense, Dropout, Flatten\n",
    "from tensorflow.keras.layers import Conv2D, MaxPooling2D\n",
    "from tensorflow.keras import backend as K\n",
    "from tensorflow.keras.datasets import mnist\n",
    "from PIL import Image\n",
    "import PIL.ImageOps  "
   ]
  },
  {
   "cell_type": "code",
   "execution_count": 2,
   "metadata": {
    "id": "maXE6kTv3BpM"
   },
   "outputs": [],
   "source": [
    "from flask import Flask, request # request - это объекты, которыми управляет flask handles (get, set, post и т.д.)\n",
    "from flask import render_template # этот объект автоматически зарендерит нам шаблон html\n",
    "import imageio # для работы с изображениями\n",
    "import numpy as np\n",
    "import tensorflow.keras.models\n",
    "import re # регулярные питоновские выражения\n",
    "from tensorflow.keras.models import model_from_json\n",
    "import sys \n",
    "import os\n",
    "from tensorflow.keras.preprocessing import image\n",
    "# Задаем имя серверу\n",
    "app = Flask(__name__)\n",
    "\n",
    "import tensorflow as tf\n",
    "import base64 # универсальный формат кодирования (часто используется с изображениями)"
   ]
  },
  {
   "cell_type": "code",
   "execution_count": 3,
   "metadata": {
    "id": "9B2MVC413DQz"
   },
   "outputs": [],
   "source": [
    "# Открываем json файл разметки модели\n",
    "json_file = open('model.json','r') \n",
    "loaded_model_json = json_file.read() # считываем\n",
    "json_file.close() # закрываем\n",
    "loaded_model = model_from_json(loaded_model_json) # используем керас, чтобы считать разметку архитектуры"
   ]
  },
  {
   "cell_type": "code",
   "execution_count": 4,
   "metadata": {
    "colab": {
     "base_uri": "https://localhost:8080/"
    },
    "id": "qhrnrn8s3G35",
    "outputId": "57886272-c548-418e-aff9-db4bf62ba8de"
   },
   "outputs": [],
   "source": [
    "loaded_model.load_weights(\"model.h5\") # подгружаем веса\n",
    "loaded_model.compile(loss='categorical_crossentropy',optimizer='adam',metrics=['accuracy'])"
   ]
  },
  {
   "cell_type": "code",
   "execution_count": 5,
   "metadata": {
    "id": "12qwTMxy3JiU"
   },
   "outputs": [],
   "source": [
    "# декодируем изображение из сырого(бинарного) представления в его base64 \n",
    "def convertImage(imgData1):\n",
    "    imgstr = re.search(b'base64,(.*)',imgData1).group(1) # находим строчку, в которой содержится побитовое представление изображение,\n",
    "                                                        # возвращает вторую(1) подгруппу\n",
    "    with open('output.png','wb') as output: # временный файл, в который записываем декодированное представление\n",
    "        output.write(base64.b64decode(imgstr))"
   ]
  },
  {
   "cell_type": "code",
   "execution_count": 21,
   "metadata": {
    "id": "QWa6fTYw3K-q"
   },
   "outputs": [],
   "source": [
    "# # Указываем адрес по которому будет откликаться Web сервис и задаем саму функцию веб сервиса. Это наша стартовая страница\n",
    "@app.route('/')\n",
    "@app.route('/index')\n",
    "def index():\n",
    "    # рендерим заранее построенный HTML файл\n",
    "    return render_template(\"index.html\")"
   ]
  },
  {
   "cell_type": "code",
   "execution_count": 22,
   "metadata": {
    "id": "DMkkO_-u3Nij"
   },
   "outputs": [],
   "source": [
    "# маршрут, по которому будет идти предсказание\n",
    "@app.route('/predict/',methods=['GET','POST'])\n",
    "def predict():\n",
    "    # в любой момент, когда пользователь вызовет predict\n",
    "    # после того, как нарисовал картинку, произойдет\n",
    "    # inference/внедрение, вернется результат классификации\n",
    "    \n",
    "    # получить сырой формат изображения (этот метод объекта Flask)\n",
    "    imgData = request.get_data()\n",
    "    \n",
    "    # кодируем в подходящий формат\n",
    "    convertImage(imgData)\n",
    "    print (\"debug\")\n",
    "    # считываем изображение в память\n",
    "    img = image.load_img('output.png', target_size=(28,28), color_mode = 'grayscale')\n",
    "    img = PIL.ImageOps.invert(img)\n",
    "    sample = np.array(img)\n",
    "    sample = np.reshape(sample, (1, 28, 28, 1))\n",
    "    sample = sample.astype('float32') \n",
    "    sample = sample / 255\n",
    "    out = loaded_model.predict(sample)\n",
    "    print (\"debug2\")               \n",
    "    print(out)\n",
    "    print(np.argmax(out,axis=1))\n",
    "    print (\"debug3\")\n",
    "\n",
    "# преобразуем ответ в строку\n",
    "    response = np.array_str(np.argmax(out,axis=1))\n",
    "    return response\n",
    "        # обнуляем граф, чтобы можно было ввести новые данные\n",
    "    #tf.reset_default_graph()"
   ]
  },
  {
   "cell_type": "code",
   "execution_count": 16,
   "metadata": {
    "colab": {
     "base_uri": "https://localhost:8080/"
    },
    "id": "I8F59ab33PrE",
    "outputId": "828e5ab6-81bb-4c7e-daf8-6b86393194df"
   },
   "outputs": [
    {
     "name": "stdout",
     "output_type": "stream",
     "text": [
      " * Serving Flask app \"__main__\" (lazy loading)\n",
      " * Environment: production\n",
      "   WARNING: This is a development server. Do not use it in a production deployment.\n",
      "   Use a production WSGI server instead.\n",
      " * Debug mode: off\n"
     ]
    },
    {
     "name": "stderr",
     "output_type": "stream",
     "text": [
      " * Running on http://127.0.0.1:5032/ (Press CTRL+C to quit)\n",
      "127.0.0.1 - - [18/Nov/2021 19:22:44] \"\u001b[37mGET / HTTP/1.1\u001b[0m\" 200 -\n",
      "127.0.0.1 - - [18/Nov/2021 19:22:44] \"\u001b[33mGET /css/normalize.css HTTP/1.1\u001b[0m\" 404 -\n",
      "127.0.0.1 - - [18/Nov/2021 19:22:44] \"\u001b[33mGET /css/style.css HTTP/1.1\u001b[0m\" 404 -\n",
      "127.0.0.1 - - [18/Nov/2021 19:22:44] \"\u001b[33mGET /js/index.js HTTP/1.1\u001b[0m\" 404 -\n",
      "127.0.0.1 - - [18/Nov/2021 19:22:44] \"\u001b[33mGET /favicon.ico HTTP/1.1\u001b[0m\" 404 -\n",
      "127.0.0.1 - - [18/Nov/2021 19:22:50] \"\u001b[33mGET /css/normalize.css HTTP/1.1\u001b[0m\" 404 -\n",
      "127.0.0.1 - - [18/Nov/2021 19:22:50] \"\u001b[33mGET /css/style.css HTTP/1.1\u001b[0m\" 404 -\n"
     ]
    }
   ],
   "source": [
    "# #     # этот порт выделяем под прогонку\n",
    "port = int(os.environ.get('PORT', 5033))\n",
    "    \n",
    "    # прогоняем на локальном сервере по заданному порту\n",
    "app.run(host='127.0.0.1', port=port, threaded=False)    \n",
    "    # опционально, если хотите прогнать в режиме дебага\n",
    "    #app.run(debug=True)"
   ]
  },
  {
   "cell_type": "code",
   "execution_count": null,
   "metadata": {},
   "outputs": [],
   "source": []
  }
 ],
 "metadata": {
  "accelerator": "GPU",
  "colab": {
   "collapsed_sections": [],
   "name": "ДЗ-34 (light)",
   "provenance": []
  },
  "kernelspec": {
   "display_name": "Python 3",
   "language": "python",
   "name": "python3"
  },
  "language_info": {
   "codemirror_mode": {
    "name": "ipython",
    "version": 3
   },
   "file_extension": ".py",
   "mimetype": "text/x-python",
   "name": "python",
   "nbconvert_exporter": "python",
   "pygments_lexer": "ipython3",
   "version": "3.8.8"
  }
 },
 "nbformat": 4,
 "nbformat_minor": 1
}
